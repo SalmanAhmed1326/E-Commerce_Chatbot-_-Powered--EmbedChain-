{
 "cells": [
  {
   "cell_type": "markdown",
   "metadata": {},
   "source": [
    "### CHATBOT WITH EMBEDCHAIN"
   ]
  },
  {
   "cell_type": "code",
   "execution_count": 30,
   "metadata": {},
   "outputs": [
    {
     "name": "stderr",
     "output_type": "stream",
     "text": [
      "Inserting batches in chromadb: 100%|██████████| 1/1 [00:03<00:00,  3.57s/it]\n"
     ]
    },
    {
     "data": {
      "text/plain": [
       "'2bd50e00e1bbd15e33ec0a23a2794f80'"
      ]
     },
     "execution_count": 30,
     "metadata": {},
     "output_type": "execute_result"
    }
   ],
   "source": [
    "import os\n",
    "from embedchain import App\n",
    "import absl.logging\n",
    "import shutil\n",
    "\n",
    "# Initialize absl logs\n",
    "absl.logging.set_verbosity(absl.logging.INFO)\n",
    "\n",
    "# Set Google API key securely (ensure it's restricted in your Google Cloud Console)\n",
    "os.environ[\"GOOGLE_API_KEY\"] = \"ENTER_YOUR_API_KEY\"\n",
    "\n",
    "# Clear previously stored data\n",
    "# def reset_embedchain_data():\n",
    "#     db_path = \"/home/salman/Linux_data/Agentic/Chatbot_assingment/db/\"  # Update with the correct path where EmbedChain stores data\n",
    "#     try:\n",
    "#         if os.path.exists(db_path):\n",
    "#             shutil.rmtree(db_path)\n",
    "#             print(\"EmbedChain data reset successfully.\")\n",
    "#         else:\n",
    "#             print(\"No previous EmbedChain data found.\")\n",
    "#     except Exception as e:\n",
    "#         print(f\"Error resetting EmbedChain data: {e}\")\n",
    "\n",
    "# # Reset the data\n",
    "# reset_embedchain_data()\n",
    "\n",
    "# Create the EmbedChain app\n",
    "app = App.from_config(config_path=\"config.yaml\")\n",
    "\n",
    "# Add a Forbes article as a data source\n",
    "# app.add(\"https://www.forbes.com/profile/elon-musk\")\n",
    "app.add(\"https://www.boat-lifestyle.com\")\n",
    "\n",
    "# Query the app\n",
    "# response = app.query(\"What is the price of Potato?\")\n",
    "\n",
    "# # Handle the response (accounting for future updates)\n",
    "# if isinstance(response, tuple):  # Future compatibility\n",
    "#     answer = response[0]\n",
    "# else:\n",
    "#     answer = response\n",
    "\n",
    "# if app.llm.config.stream:  # Stream-enabled response\n",
    "#     for chunk in answer:\n",
    "#         print(chunk)\n",
    "# else:\n",
    "#     print(answer)\n"
   ]
  },
  {
   "cell_type": "code",
   "execution_count": 40,
   "metadata": {},
   "outputs": [
    {
     "name": "stderr",
     "output_type": "stream",
     "text": [
      "2025-01-21 12:29:45,780 - 133401052771840 - embedchain.py-embedchain:558 - WARNING: Starting from v0.1.125 the return type of query method will be changed to tuple containing `answer`.\n",
      "2025-01-21 12:29:47,352 - 133401052771840 - embedchain.py-embedchain:558 - WARNING: Starting from v0.1.125 the return type of query method will be changed to tuple containing `answer`.\n",
      "2025-01-21 12:29:48,685 - 133401052771840 - embedchain.py-embedchain:558 - WARNING: Starting from v0.1.125 the return type of query method will be changed to tuple containing `answer`.\n"
     ]
    },
    {
     "name": "stdout",
     "output_type": "stream",
     "text": [
      "Rsponse1: The company name is boAt.\n",
      "\n",
      "Rsponse2: The boAt Airdopes 181 Pro has a 5.0 rating and 120 hours of playback.\n",
      "\n",
      "Rsponse3: The sale price is ₹1,799 and the regular price is ₹7,990.\n",
      "\n"
     ]
    }
   ],
   "source": [
    "response1=app.query('what is the name of company?')\n",
    "response2 = app.query(\"What is the best product you have today?\")\n",
    "response3 = app.query(\"What is the price of boAt Nirvana Ion?\")\n",
    "\n",
    "\n",
    "print('Rsponse1:',response1)\n",
    "print('Rsponse2:',response2)\n",
    "print('Rsponse3:',response3)"
   ]
  },
  {
   "cell_type": "code",
   "execution_count": 41,
   "metadata": {},
   "outputs": [],
   "source": [
    "import spacy\n",
    "from sklearn.feature_extraction.text import CountVectorizer\n",
    "from sklearn.naive_bayes import MultinomialNB\n",
    "import re\n",
    "\n",
    "# Load spaCy model\n",
    "nlp = spacy.load(\"en_core_web_sm\")\n",
    "\n",
    "# Training data for intent classification\n",
    "training_data = [\n",
    "    (\"Search for a product\", \"Product Search\"),\n",
    "    (\"What is your return policy?\", \"FAQ Inquiry\"),\n",
    "    (\"Where is my order #12345?\", \"Order Tracking\"),\n",
    "    (\"Hi, how's your day?\", \"General Chat\"),\n",
    "]\n",
    "\n",
    "# Prepare data for vectorization\n",
    "texts, labels = zip(*training_data)\n",
    "\n",
    "# Vectorize text\n",
    "vectorizer = CountVectorizer()\n",
    "X = vectorizer.fit_transform(texts)\n",
    "\n",
    "# Train a simple classifier\n",
    "classifier = MultinomialNB()\n",
    "classifier.fit(X, labels)\n",
    "\n",
    "# Function to predict intent and extract entities\n",
    "def classify_and_extract(text):\n",
    "    # Predict intent\n",
    "    vectorized_text = vectorizer.transform([text])\n",
    "    intent = classifier.predict(vectorized_text)[0]\n",
    "\n",
    "    # Extract named entities using spaCy\n",
    "    doc = nlp(text)\n",
    "    entities = [(ent.text, ent.label_) for ent in doc.ents]\n",
    "\n",
    "    # Custom entity extraction for patterns (e.g., order numbers like #1234)\n",
    "    order_pattern = r\"#\\d+\"  # Matches order numbers like #12345\n",
    "    matches = re.findall(order_pattern, text)\n",
    "    if matches:\n",
    "        entities.append((matches[0], \"ORDER_NUMBER\"))\n",
    "\n",
    "    return intent, entities\n",
    "\n"
   ]
  },
  {
   "cell_type": "code",
   "execution_count": 42,
   "metadata": {},
   "outputs": [
    {
     "name": "stdout",
     "output_type": "stream",
     "text": [
      "Intent: Order Tracking\n",
      "Entities: [('#123456', 'ORDER_NUMBER')]\n"
     ]
    }
   ],
   "source": [
    "test_text = \"what is status of my order #123456 \"\n",
    "intent, entities = classify_and_extract(test_text)\n",
    "print(f\"Intent: {intent}\")\n",
    "print(f\"Entities: {entities}\")"
   ]
  },
  {
   "cell_type": "code",
   "execution_count": 43,
   "metadata": {},
   "outputs": [
    {
     "name": "stdout",
     "output_type": "stream",
     "text": [
      "Intent: FAQ Inquiry\n",
      "Entities: []\n"
     ]
    }
   ],
   "source": [
    "test_text = \"what is the return policy? \"\n",
    "intent, entities = classify_and_extract(test_text)\n",
    "print(f\"Intent: {intent}\")\n",
    "print(f\"Entities: {entities}\")"
   ]
  },
  {
   "cell_type": "code",
   "execution_count": 44,
   "metadata": {},
   "outputs": [
    {
     "name": "stdout",
     "output_type": "stream",
     "text": [
      "Intent: Product Search\n",
      "Entities: []\n"
     ]
    }
   ],
   "source": [
    "test_text = \"Search for a  product headphone? \"\n",
    "intent, entities = classify_and_extract(test_text)\n",
    "print(f\"Intent: {intent}\")\n",
    "print(f\"Entities: {entities}\")"
   ]
  },
  {
   "cell_type": "code",
   "execution_count": 45,
   "metadata": {},
   "outputs": [
    {
     "name": "stdout",
     "output_type": "stream",
     "text": [
      "Intent: General Chat\n",
      "Entities: []\n"
     ]
    }
   ],
   "source": [
    "test_text = \"Hello, How are you doing? \"\n",
    "intent, entities = classify_and_extract(test_text)\n",
    "print(f\"Intent: {intent}\")\n",
    "print(f\"Entities: {entities}\")"
   ]
  },
  {
   "cell_type": "code",
   "execution_count": 46,
   "metadata": {},
   "outputs": [
    {
     "name": "stdout",
     "output_type": "stream",
     "text": [
      "FAQ Answer: Your order is on the way and arriving on 25th Jan 2025\n"
     ]
    }
   ],
   "source": [
    "from fuzzywuzzy import process\n",
    "\n",
    "# Mock FAQ dataset\n",
    "faq_data = {\n",
    "    \"What is your return policy?\": \"Our return policy allows returns within 7 days of purchase with a valid receipt.\",\n",
    "    \"How can I track my order?\": \"You can track your order by entering the order ID on our tracking page.\",\n",
    "    \"What payment methods do you accept?\": \"We accept credit cards, UPI, PayPal, and bank transfers.\",\n",
    "    \"Do you offer international shipping?\": \"Yes, we offer international shipping to selected countries.\",\n",
    "    \"What is your customer service contact?\": \"You can contact our customer service at support@ourstore.com or call us at +1-800-123-4567.\",\n",
    "    \"How do I cancel my order?\": \"You can cancel your order within 24 hours of placing it by visiting your orders page.\",\n",
    "    \"Can I modify my order after placing it?\": \"Yes, you can modify your order within 12 hours of placing it.\",\n",
    "    \"What are your working hours?\": \"Our working hours are Monday to Friday, 9 AM to 6 PM.\",\n",
    "    \"Do you have a physical store?\": \"Yes, we have a flagship store located at 123 Main Street, Cityname.\",\n",
    "    \"Do you offer gift wrapping?\": \"Yes, we offer gift wrapping services for an additional fee.\",\n",
    "    \"What/Providedelivery status of order #12345?\":\"Your order is on the way and arriving on 25th Jan 2025\"\n",
    "}\n",
    "\n",
    "# Function to retrieve the most relevant FAQ\n",
    "def retrieve_faq(question, threshold=80):\n",
    "    # Use fuzzy matching to find the closest question in the FAQ dataset\n",
    "    closest_match, score = process.extractOne(question, faq_data.keys())\n",
    "    if score >= threshold:  # Only return if the match confidence is high\n",
    "        return faq_data[closest_match]\n",
    "    return None\n",
    "\n",
    "# Query and integrate with LLM\n",
    "user_question = \"Provide the delivery status of order #12345?\"\n",
    "faq_answer = retrieve_faq(user_question)\n",
    "\n",
    "if faq_answer:\n",
    "    print(f\"FAQ Answer: {faq_answer}\")\n",
    "else:\n",
    "    # If no FAQ match is found, fallback to app query (e.g., LLM)\n",
    "    response = app.query(user_question)  # Ensure `app` is properly initialized\n",
    "    print(f\"Generated Response: {response}\")\n"
   ]
  },
  {
   "cell_type": "code",
   "execution_count": 47,
   "metadata": {},
   "outputs": [
    {
     "name": "stdout",
     "output_type": "stream",
     "text": [
      "FAQ Answer: Our working hours are Monday to Friday, 9 AM to 6 PM.\n"
     ]
    }
   ],
   "source": [
    "user_question = \"What are your working hours?\"\n",
    "faq_answer = retrieve_faq(user_question)\n",
    "\n",
    "if faq_answer:\n",
    "    print(f\"FAQ Answer: {faq_answer}\")\n",
    "else:\n",
    "    # If no FAQ match is found, fallback to app query (e.g., LLM)\n",
    "    response = app.query(user_question)  # Ensure `app` is properly initialized\n",
    "    print(f\"Generated Response: {response}\")\n"
   ]
  },
  {
   "cell_type": "code",
   "execution_count": 48,
   "metadata": {},
   "outputs": [
    {
     "name": "stderr",
     "output_type": "stream",
     "text": [
      "2025-01-21 12:30:18,873 - 133401052771840 - embedchain.py-embedchain:558 - WARNING: Starting from v0.1.125 the return type of query method will be changed to tuple containing `answer`.\n"
     ]
    },
    {
     "name": "stdout",
     "output_type": "stream",
     "text": [
      "Product Recommendation: The boAt Rockerz 255 Pro+ is a great option with 50 hours of playback and a 4.8-star rating.\n",
      "\n"
     ]
    },
    {
     "name": "stderr",
     "output_type": "stream",
     "text": [
      "2025-01-21 12:30:20,223 - 133401052771840 - embedchain.py-embedchain:558 - WARNING: Starting from v0.1.125 the return type of query method will be changed to tuple containing `answer`.\n"
     ]
    },
    {
     "name": "stdout",
     "output_type": "stream",
     "text": [
      "Order Status: I am unable to provide the delivery status for order #12345.\n",
      "\n"
     ]
    },
    {
     "name": "stderr",
     "output_type": "stream",
     "text": [
      "2025-01-21 12:30:21,454 - 133401052771840 - embedchain.py-embedchain:558 - WARNING: Starting from v0.1.125 the return type of query method will be changed to tuple containing `answer`.\n"
     ]
    },
    {
     "name": "stdout",
     "output_type": "stream",
     "text": [
      "FAQ Response: There is a 7-day replacement policy.\n",
      "\n"
     ]
    }
   ],
   "source": [
    "# Prompt examples\n",
    "product_recommendation_prompt = \"Recommend the best wireless headphone under $100.\"\n",
    "order_status_prompt = \"Provide the delivery status of order #12345.\"\n",
    "faq_prompt = \"Explain the return policy in detail.\"\n",
    "\n",
    "# Function to query the LLM with optimized prompts\n",
    "def query_llm(prompt):\n",
    "    response = app.query(prompt)\n",
    "    return response\n",
    "\n",
    "# Test prompts\n",
    "print(\"Product Recommendation:\", query_llm(product_recommendation_prompt))\n",
    "print(\"Order Status:\", query_llm(order_status_prompt))\n",
    "print(\"FAQ Response:\", query_llm(faq_prompt))\n"
   ]
  },
  {
   "cell_type": "code",
   "execution_count": 49,
   "metadata": {},
   "outputs": [
    {
     "name": "stderr",
     "output_type": "stream",
     "text": [
      "2025-01-21 12:30:27,600 - 133401052771840 - embedchain.py-embedchain:558 - WARNING: Starting from v0.1.125 the return type of query method will be changed to tuple containing `answer`.\n"
     ]
    },
    {
     "name": "stdout",
     "output_type": "stream",
     "text": [
      "I'm doing well, thank you for asking! How can I help you today?\n",
      "\n"
     ]
    },
    {
     "name": "stderr",
     "output_type": "stream",
     "text": [
      "2025-01-21 12:30:29,133 - 133401052771840 - embedchain.py-embedchain:558 - WARNING: Starting from v0.1.125 the return type of query method will be changed to tuple containing `answer`.\n"
     ]
    },
    {
     "name": "stdout",
     "output_type": "stream",
     "text": [
      "The boAt Nirvana Ion ANC is a great option with a sale price of ₹2,499.\n",
      "\n"
     ]
    }
   ],
   "source": [
    "print(query_llm('Hello how are you?'))\n",
    "print(query_llm('What is the best product you have today and what is price ?'))"
   ]
  },
  {
   "cell_type": "code",
   "execution_count": 50,
   "metadata": {},
   "outputs": [
    {
     "name": "stderr",
     "output_type": "stream",
     "text": [
      "2025-01-21 12:30:50,126 - 133401052771840 - embedchain.py-embedchain:558 - WARNING: Starting from v0.1.125 the return type of query method will be changed to tuple containing `answer`.\n"
     ]
    },
    {
     "name": "stdout",
     "output_type": "stream",
     "text": [
      "Product Recommendation: The boAt Rockerz 255 Pro+ is a great option, offering 50 hours of playback time.\n",
      "\n",
      "Order Status: Your order is scheduled to be delivered on January 20, 2025.\n",
      "FAQ Response: You can return products within 30 days of purchase.\n"
     ]
    },
    {
     "name": "stderr",
     "output_type": "stream",
     "text": [
      "2025-01-21 12:30:53,098 - 133401052771840 - embedchain.py-embedchain:558 - WARNING: Starting from v0.1.125 the return type of query method will be changed to tuple containing `answer`.\n"
     ]
    },
    {
     "name": "stdout",
     "output_type": "stream",
     "text": [
      "Response: The boAt Airdopes 111v2 is a new launch with 50 hours of playback, priced at ₹1,199 (regular price ₹4,990). The boAt Wave Sigma 3 is a new launch with BT calling, priced at ₹1,499 (regular price ₹8,999). The boAt Wave Call 2 Plus is a new launch with BT calling, priced at ₹1,449 (regular price ₹7,499). The boAt Airdopes 800 is a new launch with 100 hours of playback, priced at ₹1,499 (regular price ₹6,490). The boAt Airdopes 181 Pro is a new launch with 120 hours of playback, priced at ₹1,199 (regular price ₹4,990). The boAt Stone 350 Pro is a new launch with 12 hours of playback and an extra ₹100 off, priced at ₹1,699 (regular price ₹4,990).\n",
      "\n"
     ]
    }
   ],
   "source": [
    "# Mock data for order tracking\n",
    "mock_order_data = {\n",
    "    \"12345\": \"Your order is scheduled to be delivered on January 20, 2025.\",\n",
    "    \"67890\": \"Your order was delivered on January 15, 2025.\"\n",
    "}\n",
    "\n",
    "# Order tracking function\n",
    "def track_order(order_id):\n",
    "    return mock_order_data.get(order_id, \"Order ID not found.\")\n",
    "\n",
    "def classify_and_extract(query):\n",
    "    if \"order\" in query.lower():\n",
    "        intent = \"Order Tracking\"\n",
    "        order_id = re.findall(r'\\b\\d{5}\\b', query)  # Extract 5-digit order ID\n",
    "        return intent, [(id, \"ORDER_ID\") for id in order_id]\n",
    "    elif \"recommend\" in query.lower() or \"suggest\" in query.lower():\n",
    "        return \"Product Search\", []\n",
    "    elif \"return policy\" in query.lower():\n",
    "        return \"FAQ Inquiry\", []\n",
    "    return \"General Chat\", []\n",
    "\n",
    "# Simulated user interaction\n",
    "def user_interaction():\n",
    "    # Step 1: Product Search\n",
    "    user_query = \"Suggest me a wireless headphone under $100.\"\n",
    "    intent, entities = classify_and_extract(user_query)\n",
    "    if intent == \"Product Search\":\n",
    "        product_response = query_llm(\"Recommend the best wireless headphone under $100.\")\n",
    "        print(f\"Product Recommendation: {product_response}\")\n",
    "\n",
    "    # Step 2: Order Tracking\n",
    "    user_query = \"Provide the delivery status of order 12345\"\n",
    "    intent, entities = classify_and_extract(user_query)\n",
    "    if intent == \"Order Tracking\":\n",
    "        order_id = entities[0][0] if entities else None\n",
    "        order_status = track_order(order_id)\n",
    "        print(f\"Order Status: {order_status}\")\n",
    "\n",
    "    # Step 3: FAQ Inquiry\n",
    "    user_query = \"What is your return policy?\"\n",
    "    intent, _ = classify_and_extract(user_query)\n",
    "    if intent == \"FAQ Inquiry\":\n",
    "        faq_response = \"You can return products within 30 days of purchase.\"  # Mock response\n",
    "        print(f\"FAQ Response: {faq_response}\")\n",
    "\n",
    "    # Handle unmatched cases\n",
    "    user_query = \"Tell me about your new products with features and price.\"\n",
    "    intent, _ = classify_and_extract(user_query)\n",
    "    if intent == \"General Chat\":\n",
    "        general_response = query_llm(user_query)\n",
    "        print(f\"Response: {general_response}\")\n",
    "\n",
    "# Run the mock interaction\n",
    "user_interaction()\n"
   ]
  },
  
